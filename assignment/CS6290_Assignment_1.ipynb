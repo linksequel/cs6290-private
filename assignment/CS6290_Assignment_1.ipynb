{
 "cells": [
  {
   "cell_type": "markdown",
   "metadata": {},
   "source": [
    "# CS 6290: Privacy-enhancing Technologies\n",
    "## Assignment 1\n",
    "\n",
    "(Acknowledgement: this assignment is adapted from [Homework 9 for UVM CS 3990, developed by Joseph P. Near](https://github.com/jnear/cs3990-secure-computation/blob/main/homework/CS3990_HW_9.ipynb).)"
   ]
  },
  {
   "cell_type": "code",
   "execution_count": 218,
   "metadata": {},
   "outputs": [],
   "source": [
    "import numpy as np\n",
    "import random\n",
    "import hashlib"
   ]
  },
  {
   "cell_type": "markdown",
   "metadata": {},
   "source": [
    "## The Petersen Graph\n",
    "\n",
    "[The Petersen Graph](https://en.wikipedia.org/wiki/Petersen_graph) has 10 vertices and 15 edges, and can be colored with 3 colors.\n",
    "\n",
    "![alt text](https://upload.wikimedia.org/wikipedia/commons/thumb/9/90/Petersen_graph_3-coloring.svg/220px-Petersen_graph_3-coloring.svg.png \"Title\")"
   ]
  },
  {
   "cell_type": "code",
   "execution_count": 219,
   "metadata": {},
   "outputs": [
    {
     "name": "stdout",
     "output_type": "stream",
     "text": [
      "Number of nodes: 10\n"
     ]
    }
   ],
   "source": [
    "coloring = {\n",
    "    # outer five nodes, clockwise from top\n",
    "    0: 'red',\n",
    "    1: 'blue', \n",
    "    2: 'green',\n",
    "    3: 'red',\n",
    "    4: 'blue',\n",
    "    # inner five nodes, clockwise from top\n",
    "    5: 'blue', \n",
    "    6: 'red',\n",
    "    7: 'red',\n",
    "    8: 'green',\n",
    "    9: 'green'\n",
    "}\n",
    "print('Number of nodes:', len(coloring))"
   ]
  },
  {
   "cell_type": "code",
   "execution_count": 220,
   "metadata": {},
   "outputs": [
    {
     "name": "stdout",
     "output_type": "stream",
     "text": [
      "Number of edges: 15\n"
     ]
    }
   ],
   "source": [
    "edges = [\n",
    "    # outer shape, clockwise from top\n",
    "    (0, 1),\n",
    "    (1, 2),\n",
    "    (2, 3),\n",
    "    (3, 4),\n",
    "    (4, 0),\n",
    "    # inner shape, clockwise from top\n",
    "    (5, 0), (5, 7),\n",
    "    (6, 1), (6, 8),\n",
    "    (7, 2), (7, 9),\n",
    "    (8, 3), (8, 5),\n",
    "    (9, 4), (9, 6)\n",
    "]\n",
    "print('Number of edges:', len(edges))"
   ]
  },
  {
   "cell_type": "markdown",
   "metadata": {},
   "source": [
    "## Background\n",
    "\n",
    "**Your goal in this assignment** is to implement a zero-knowledge interactive proof protocol that allows the Prover to convince the Verifier that the Prover knows a valid 3-coloring for the Petersen graph - without revealing the coloring.\n",
    "\n",
    "You can find the description in [Matt Green's blog post](https://blog.cryptographyengineering.com/2014/11/27/zero-knowledge-proofs-illustrated-primer/).\n",
    "\n",
    "For those interested in a more theoretical understanding of Zero-Knowledge Proofs and the 3-coloring problem, we recommend exploring these learning materials:\n",
    "- **Interactive Zero-Knowledge Proofs:** Stanford University, CS355 Course Notes, [https://crypto.stanford.edu/cs355/18sp/lec3.pdf](https://crypto.stanford.edu/cs355/18sp/lec3.pdf)\n",
    "- **3-Coloring Zero-Knowledge Proof:** University of Illinois at Urbana-Champaign, CS498 Course Notes (Section 15.1), [https://courses.grainger.illinois.edu/cs498ac3/fa2020/Files/Lecture_15_Scribe.pdf](https://courses.grainger.illinois.edu/cs498ac3/fa2020/Files/Lecture_15_Scribe.pdf)"
   ]
  },
  {
   "cell_type": "markdown",
   "metadata": {},
   "source": [
    "## Protocol\n",
    "\n",
    "The Prover and Verifier perform the following steps $n^2$ times, where $n$ is the number of vertices in the graph:\n",
    "\n",
    "- **Step 1: shuffle and commit.** The Prover randomizes the colors and commits to the coloring. The Prover sends the commitment to the Verifier.\n",
    "- **Step 2: challenge.** The Verifier picks a random edge in the graph.\n",
    "- **Step 3: response.** The Prover opens the commitment for the two vertices connected by the chosen edge. If the two colors are the same, the Verifier rejects."
   ]
  },
  {
   "cell_type": "markdown",
   "metadata": {},
   "source": [
    "## Question 1 (7 points)\n",
    "\n",
    "Implement the above protocol for an interactive zero-knowledge proof of the graph coloring. (**6 points**)"
   ]
  },
  {
   "cell_type": "code",
   "execution_count": 221,
   "metadata": {},
   "outputs": [
    {
     "name": "stdout",
     "output_type": "stream",
     "text": [
      "wheteher satifies 3-color: True\n"
     ]
    }
   ],
   "source": [
    "class Prover:\n",
    "    def __init__(self, coloring):\n",
    "        self.original_coloring = coloring\n",
    "        self.shuffled_colors = {}\n",
    "        self.commitments = {}\n",
    "    \n",
    "    def shuffle_and_commit(self):\n",
    "        # 生成颜色置换\n",
    "        color_map = {'red':0, 'blue':1, 'green':2}\n",
    "        permutation = list(np.random.permutation([0,1,2]))\n",
    "        \n",
    "        # 转换颜色并打乱,这里新的颜色只是为了掩盖原来的颜色\n",
    "        shuffled = {}\n",
    "        for v in self.original_coloring:\n",
    "            original_color = color_map[self.original_coloring[v]]\n",
    "            new_color_idx = permutation[original_color]\n",
    "            shuffled[v] = ['red', 'blue', 'green'][new_color_idx]\n",
    "        \n",
    "        # 生成承诺\n",
    "        commitments = {}\n",
    "        for v in shuffled:\n",
    "            data = f\"{v}{shuffled[v]}\"\n",
    "            commitments[v] = hashlib.sha256(data.encode()).hexdigest()\n",
    "        \n",
    "        self.shuffled_colors = shuffled\n",
    "        self.commitments = commitments\n",
    "        return commitments\n",
    "    \n",
    "    def response(self, edge, V):\n",
    "        v1, v2 = edge\n",
    "        c1, c2 = self.shuffled_colors[v1], self.shuffled_colors[v2]\n",
    "        return V.check(edge, c1, c2)\n",
    "\n",
    "class Verifier:\n",
    "    def __init__(self, graph_edges):\n",
    "        self.edges = graph_edges\n",
    "        self.commitments = {}\n",
    "    \n",
    "    def receive_commitment(self, commitments):\n",
    "        self.commitments = commitments\n",
    "    \n",
    "    def challenge(self):\n",
    "        return random.choice(self.edges)\n",
    "    \n",
    "    def check(self, edge, c1, c2):\n",
    "        v1, v2 = edge\n",
    "        # 验证颜色不同\n",
    "        if c1 == c2:\n",
    "            return False\n",
    "        \n",
    "        # 验证承诺正确性\n",
    "        data1 = f\"{v1}{c1}\"\n",
    "        data2 = f\"{v2}{c2}\"\n",
    "        return (self.commitments[v1] == hashlib.sha256(data1.encode()).hexdigest() and\n",
    "                self.commitments[v2] == hashlib.sha256(data2.encode()).hexdigest())\n",
    "\n",
    "def run_protocol(coloring, iterations=len(edges)**2):\n",
    "    P = Prover(coloring)\n",
    "    V = Verifier(edges)\n",
    "    for _ in range(iterations):\n",
    "        commitments = P.shuffle_and_commit()\n",
    "        V.receive_commitment(commitments)\n",
    "        challenge_edge = V.challenge()\n",
    "        check_result = P.response(challenge_edge, V)\n",
    "        if not check_result:\n",
    "            return False\n",
    "    return True\n",
    "\n",
    "# 测试有效着色\n",
    "print(\"wheteher satifies 3-color:\", run_protocol(coloring))"
   ]
  },
  {
   "cell_type": "markdown",
   "metadata": {},
   "source": [
    "**Note:** You should modify `edges` to demonstrate the Verifier will reject the proof with an invalid coloring. (**1 point**)."
   ]
  },
  {
   "cell_type": "code",
   "execution_count": 222,
   "metadata": {},
   "outputs": [
    {
     "name": "stdout",
     "output_type": "stream",
     "text": [
      "wheteher satifies 3-color: False\n"
     ]
    }
   ],
   "source": [
    "# 测试无效着色（将顶点0和1设为相同颜色）\n",
    "invalid_coloring = coloring.copy()\n",
    "invalid_coloring[0] = 'blue'  # 原为red，现在与顶点1同色\n",
    "print(\"wheteher satifies 3-color:\", run_protocol(invalid_coloring))"
   ]
  },
  {
   "cell_type": "markdown",
   "metadata": {},
   "source": [
    "## Question 2 (1 points)\n",
    "\n",
    "In 2-5 sentences, argue that the protocol is zero-knowledge (it doesn't reveal anything about the witness)."
   ]
  },
  {
   "cell_type": "markdown",
   "metadata": {
    "deletable": false,
    "nbgrader": {
     "cell_type": "markdown",
     "checksum": "35cf9235354f6f3da043172fdbdfce6c",
     "grade": true,
     "grade_id": "cell-0efb4dc3f756e047",
     "locked": false,
     "points": 10,
     "schema_version": 3,
     "solution": true,
     "task": false
    }
   },
   "source": [
    "YOUR ANSWER HERE\n",
    "- the verifier cannot obtain any information about the real coloring through the protocol interaction. The verifier can only observe the hashed values of the commitments and the color pairs of randomly selected edges. Since the colors are randomly permuted, each interaction's commitment is independently random, and the verifier can only view the randomly selected edges, making it impossible to infer the colors of other vertices.\n",
    "- Moreover, the verifier can generate valid interaction records through a simulator without using the real coloring, which proves that the protocol does not reveal any additional information."
   ]
  },
  {
   "cell_type": "markdown",
   "metadata": {},
   "source": [
    "## Question 3 (2 points)\n",
    "\n",
    "What is the probability that a cheating Prover is *not* caught in this protocol, and why? (You should give the proof of your answer)"
   ]
  },
  {
   "cell_type": "markdown",
   "metadata": {
    "deletable": false,
    "nbgrader": {
     "cell_type": "markdown",
     "checksum": "166ca03fc75d6f0ce8d5b152cbe6fee3",
     "grade": true,
     "grade_id": "cell-b935648579557ab4",
     "locked": false,
     "points": 10,
     "schema_version": 3,
     "solution": true,
     "task": false
    }
   },
   "source": [
    "- If there is at least one illegal edge (with the same color), the probability that the verifier selects this edge in each challenge is $\\frac{1}{15}$. \n",
    "- The probability of passing each verification(not be caught) is $\\frac{14}{15}$. \n",
    "- After k independent verifications, the probability of passing all of them(not be caught) is $(\\frac{14}{15})^k$.When $k = 15^2 = 225$, the probability is $(\\frac{14}{15})^{225}\\approx2.3\\times10^{-7}$, which is close to zero."
   ]
  }
 ],
 "metadata": {
  "kernelspec": {
   "display_name": "cityu",
   "language": "python",
   "name": "python3"
  },
  "language_info": {
   "codemirror_mode": {
    "name": "ipython",
    "version": 3
   },
   "file_extension": ".py",
   "mimetype": "text/x-python",
   "name": "python",
   "nbconvert_exporter": "python",
   "pygments_lexer": "ipython3",
   "version": "3.12.4"
  }
 },
 "nbformat": 4,
 "nbformat_minor": 4
}
